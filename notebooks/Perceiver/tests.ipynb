{
 "cells": [
  {
   "cell_type": "code",
   "execution_count": 16,
   "metadata": {},
   "outputs": [],
   "source": [
    "%reload_ext autoreload\n",
    "%autoreload 2"
   ]
  },
  {
   "cell_type": "markdown",
   "metadata": {},
   "source": [
    "# Imports & Utility Functions"
   ]
  },
  {
   "cell_type": "code",
   "execution_count": 1,
   "metadata": {},
   "outputs": [],
   "source": [
    "import base64\n",
    "import functools\n",
    "import os\n",
    "import pickle\n",
    "import ssl\n",
    "import re\n",
    "import tempfile\n",
    "\n",
    "from urllib import request\n",
    "\n",
    "import cv2\n",
    "import imageio\n",
    "import numpy as np\n",
    "import scipy.io.wavfile\n",
    "\n",
    "from IPython.display import HTML"
   ]
  },
  {
   "cell_type": "markdown",
   "metadata": {},
   "source": [
    "### Utils"
   ]
  },
  {
   "cell_type": "code",
   "execution_count": 2,
   "metadata": {},
   "outputs": [],
   "source": [
    "def to_gif(images):\n",
    "    converted_images = np.clip(images * 255, 0, 255).astype(np.uint8)\n",
    "    imageio.mimsave('./animation.gif', converted_images, fps=25)\n",
    "    with open('./animation.gif', 'rb') as f:\n",
    "        gif_64 = base64.b64encode(f.read()).decode('utf-8')\n",
    "    return HTML('<img src=\"data:image/gif;base64,%s\"/>' % gif_64)\n",
    "\n",
    "def play_audio(data, sample_rate=48000):\n",
    "    scipy.io.wavfile.write('tmp_audio.wav', sample_rate, data)\n",
    "\n",
    "    with open('./tmp_audio.wav', 'rb') as f:\n",
    "        audio_64 = base64.b64encode(f.read()).decode('utf-8')\n",
    "    return HTML('<audio controls src=\"data:audio/wav;base64,%s\"/>' % audio_64)\n",
    "\n",
    "def table(elements):\n",
    "    row = ['<td>%s</td>' % el.data for el in elements]\n",
    "    return HTML('<table><tr>%s</tr></table>' % ''.join(row))"
   ]
  },
  {
   "cell_type": "code",
   "execution_count": 4,
   "metadata": {},
   "outputs": [],
   "source": [
    "import h5py\n",
    "import numpy as np\n",
    "\n",
    "hf = h5py.File(\"y_train.h5\", \"r\")\n",
    "data = hf.get(\"data\")"
   ]
  },
  {
   "cell_type": "code",
   "execution_count": 74,
   "metadata": {},
   "outputs": [
    {
     "data": {
      "text/plain": [
       "array([-0.5, -1.2,  1.8, ...,  0.6, -0.4,  2. ])"
      ]
     },
     "execution_count": 74,
     "metadata": {},
     "output_type": "execute_result"
    }
   ],
   "source": [
    "np.array(data)"
   ]
  },
  {
   "cell_type": "code",
   "execution_count": 17,
   "metadata": {},
   "outputs": [],
   "source": [
    "import pickle\n",
    "\n",
    "# pickle.load(\"mosi_data.pkl\")\n",
    "with open(\"mosi_data.pkl\", 'rb') as pickle_file:\n",
    "    content = pickle.load(pickle_file)"
   ]
  },
  {
   "cell_type": "code",
   "execution_count": 24,
   "metadata": {},
   "outputs": [
    {
     "data": {
      "text/plain": [
       "dict_keys(['vision', 'labels', 'text', 'audio', 'id'])"
      ]
     },
     "execution_count": 24,
     "metadata": {},
     "output_type": "execute_result"
    }
   ],
   "source": [
    "content[\"train\"].keys()"
   ]
  },
  {
   "cell_type": "code",
   "execution_count": 32,
   "metadata": {},
   "outputs": [
    {
     "data": {
      "text/plain": [
       "(1284, 50, 20)"
      ]
     },
     "execution_count": 32,
     "metadata": {},
     "output_type": "execute_result"
    }
   ],
   "source": [
    "content[\"train\"][\"vision\"].shape"
   ]
  },
  {
   "cell_type": "code",
   "execution_count": 42,
   "metadata": {},
   "outputs": [
    {
     "data": {
      "image/png": "[encoded data removed]",
      "text/plain": [
       "<Figure size 432x288 with 2 Axes>"
      ]
     },
     "metadata": {
      "needs_background": "light"
     },
     "output_type": "display_data"
    }
   ],
   "source": [
    "import matplotlib.pyplot as plt\n",
    "\n",
    "plt.imshow(content[\"train\"][\"vision\"][570,: ,:])\n",
    "plt.colorbar()\n",
    "plt.show()"
   ]
  },
  {
   "cell_type": "code",
   "execution_count": 78,
   "metadata": {},
   "outputs": [
    {
     "data": {
      "text/plain": [
       "(1284, 1, 1)"
      ]
     },
     "execution_count": 78,
     "metadata": {},
     "output_type": "execute_result"
    }
   ],
   "source": [
    "content[\"train\"][\"labels\"].shape"
   ]
  },
  {
   "cell_type": "markdown",
   "metadata": {},
   "source": [
    "csd"
   ]
  },
  {
   "cell_type": "code",
   "execution_count": 96,
   "metadata": {},
   "outputs": [
    {
     "data": {
      "text/plain": [
       "array([[ 2.4 ],\n",
       "       [-0.8 ],\n",
       "       [-1.  ],\n",
       "       [-1.75],\n",
       "       [ 0.  ],\n",
       "       [ 0.  ],\n",
       "       [ 0.8 ],\n",
       "       [ 0.  ],\n",
       "       [ 0.2 ],\n",
       "       [-1.2 ],\n",
       "       [-0.5 ],\n",
       "       [ 2.2 ],\n",
       "       [ 1.8 ]], dtype=float32)"
      ]
     },
     "execution_count": 96,
     "metadata": {},
     "output_type": "execute_result"
    }
   ],
   "source": [
    "h = h5py.File(\"CMU_MOSI_Opinion_Labels.csd\", \"r\")\n",
    "np.array(h.get(\"Opinion Segment Labels\").get(\"data\").get(\"03bSnISJMiM\").get(\"features\"))\n",
    "# np.array(h.get(\"Opinion Segment Labels\").get(\"metadata\"))"
   ]
  },
  {
   "cell_type": "code",
   "execution_count": 95,
   "metadata": {},
   "outputs": [
    {
     "data": {
      "text/plain": [
       "array([[ 51.904533,  55.94535 ],\n",
       "       [ 56.045124,  66.78072 ],\n",
       "       [ 66.78072 ,  68.73628 ],\n",
       "       [ 68.73628 ,  70.542175],\n",
       "       [ 70.542175,  71.69955 ],\n",
       "       [ 71.69955 ,  72.85692 ],\n",
       "       [ 72.85692 ,  77.79569 ],\n",
       "       [ 77.79569 ,  89.52902 ],\n",
       "       [ 89.52902 ,  92.23288 ],\n",
       "       [ 92.23288 ,  94.80703 ],\n",
       "       [ 94.80703 ,  96.57301 ],\n",
       "       [ 96.57301 ,  99.01746 ],\n",
       "       [168.65918 , 170.24557 ]], dtype=float32)"
      ]
     },
     "execution_count": 95,
     "metadata": {},
     "output_type": "execute_result"
    }
   ],
   "source": [
    "# get a full array from h\n",
    "np.array(h.get(\"Opinion Segment Labels\").get(\"data\").get(\"03bSnISJMiM\").get(\"intervals\"))"
   ]
  },
  {
   "cell_type": "markdown",
   "metadata": {},
   "source": [
    "# Real"
   ]
  },
  {
   "cell_type": "code",
   "execution_count": 100,
   "metadata": {},
   "outputs": [],
   "source": [
    "import os\n",
    "import h5py\t\n",
    "import numpy as np\n",
    "\n",
    "DATA_PATH = '../../data/CMU_MOSI/'\n",
    "VIDEO_PATH = os.path.join(DATA_PATH, 'Video/Segmented')\n",
    "LABELS_PATH = os.path.join(DATA_PATH, 'CMU_MOSI_Opinion_Labels.csd')"
   ]
  },
  {
   "cell_type": "code",
   "execution_count": 130,
   "metadata": {},
   "outputs": [],
   "source": [
    "labels_csd = h5py.File(LABELS_PATH, 'r').get(\"Opinion Segment Labels\")"
   ]
  },
  {
   "cell_type": "code",
   "execution_count": 131,
   "metadata": {},
   "outputs": [
    {
     "data": {
      "text/plain": [
       "<KeysViewHDF5 ['data', 'metadata']>"
      ]
     },
     "execution_count": 131,
     "metadata": {},
     "output_type": "execute_result"
    }
   ],
   "source": [
    "labels_csd.keys()"
   ]
  },
  {
   "cell_type": "code",
   "execution_count": 143,
   "metadata": {},
   "outputs": [
    {
     "data": {
      "text/plain": [
       "[array([2.4], dtype=float32),\n",
       " array([-0.8], dtype=float32),\n",
       " array([-1.], dtype=float32),\n",
       " array([-1.75], dtype=float32),\n",
       " array([0.], dtype=float32),\n",
       " array([0.], dtype=float32),\n",
       " array([0.8], dtype=float32),\n",
       " array([0.], dtype=float32),\n",
       " array([0.2], dtype=float32),\n",
       " array([-1.2], dtype=float32),\n",
       " array([-0.5], dtype=float32),\n",
       " array([2.2], dtype=float32),\n",
       " array([1.8], dtype=float32)]"
      ]
     },
     "execution_count": 143,
     "metadata": {},
     "output_type": "execute_result"
    }
   ],
   "source": [
    "f = list(labels_csd[\"data\"].get(\"03bSnISJMiM\").get(\"features\"))\n",
    "f"
   ]
  },
  {
   "cell_type": "code",
   "execution_count": 162,
   "metadata": {},
   "outputs": [
    {
     "data": {
      "text/plain": [
       "[2.4, -0.8, -1.0, -1.75, 0.0, 0.0, 0.8, 0.0, 0.2, -1.2, -0.5, 2.2, 1.8]"
      ]
     },
     "execution_count": 162,
     "metadata": {},
     "output_type": "execute_result"
    }
   ],
   "source": [
    "list(np.array(labels_csd[\"data\"].get(\"03bSnISJMiM\").get(\"features\"))[:,0])"
   ]
  },
  {
   "cell_type": "markdown",
   "metadata": {},
   "source": [
    "# Test dataset "
   ]
  },
  {
   "cell_type": "code",
   "execution_count": 1,
   "metadata": {},
   "outputs": [],
   "source": [
    "%reload_ext autoreload\n",
    "%autoreload 2"
   ]
  },
  {
   "cell_type": "code",
   "execution_count": 2,
   "metadata": {},
   "outputs": [
    {
     "name": "stdout",
     "output_type": "stream",
     "text": [
      "/mnt/c/Users/Mustapha/Documents/CENTRALESUPELEC_3A/advanced AI/multimodal_sentiment_analysis\n"
     ]
    }
   ],
   "source": [
    "import os\n",
    "path = %pwd\n",
    "if path.split(os.sep)[-1] == 'Perceiver':\n",
    "    %cd ../.."
   ]
  },
  {
   "cell_type": "code",
   "execution_count": 3,
   "metadata": {},
   "outputs": [],
   "source": [
    "import numpy as np\n",
    "from src.data_loaders.cmu_mosi import get_train_val"
   ]
  },
  {
   "cell_type": "code",
   "execution_count": 4,
   "metadata": {},
   "outputs": [
    {
     "name": "stderr",
     "output_type": "stream",
     "text": [
      "Caching videos for training split: 100%|██████████| 40/40 [00:04<00:00,  9.89it/s]\n",
      "Caching videos for validation split: 100%|██████████| 10/10 [00:00<00:00, 11.03it/s]\n"
     ]
    }
   ],
   "source": [
    "train_loader, val_loader = get_train_val(batch_size=1, debugging=True)"
   ]
  },
  {
   "cell_type": "code",
   "execution_count": 5,
   "metadata": {},
   "outputs": [
    {
     "data": {
      "text/plain": [
       "3"
      ]
     },
     "execution_count": 5,
     "metadata": {},
     "output_type": "execute_result"
    }
   ],
   "source": [
    "len(val_loader)"
   ]
  },
  {
   "cell_type": "code",
   "execution_count": 6,
   "metadata": {},
   "outputs": [
    {
     "data": {
      "text/plain": [
       "10"
      ]
     },
     "execution_count": 6,
     "metadata": {},
     "output_type": "execute_result"
    }
   ],
   "source": [
    "len(train_loader)"
   ]
  },
  {
   "cell_type": "code",
   "execution_count": 7,
   "metadata": {},
   "outputs": [],
   "source": [
    "data = train_loader.dataset"
   ]
  },
  {
   "cell_type": "code",
   "execution_count": 8,
   "metadata": {},
   "outputs": [
    {
     "data": {
      "text/plain": [
       "array([-0.00205994, -0.0025177 , -0.00073242, ...,  0.        ,\n",
       "        0.        ,  0.        ], dtype=float32)"
      ]
     },
     "execution_count": 8,
     "metadata": {},
     "output_type": "execute_result"
    }
   ],
   "source": [
    "data[11][1]"
   ]
  },
  {
   "cell_type": "code",
   "execution_count": 9,
   "metadata": {},
   "outputs": [
    {
     "data": {
      "text/plain": [
       "(38058,)"
      ]
     },
     "execution_count": 9,
     "metadata": {},
     "output_type": "execute_result"
    }
   ],
   "source": [
    "data[7][1].shape"
   ]
  },
  {
   "cell_type": "markdown",
   "metadata": {},
   "source": [
    "# Perceiver"
   ]
  },
  {
   "cell_type": "code",
   "execution_count": 10,
   "metadata": {},
   "outputs": [],
   "source": [
    "from transformers import PerceiverForMultimodalAutoencoding\n",
    "from tqdm.notebook import tqdm\n",
    "import torch\n",
    "\n",
    "device = 'cuda' if torch.cuda.is_available() else 'cpu'\n",
    "\n",
    "model = PerceiverForMultimodalAutoencoding.from_pretrained(\"deepmind/multimodal-perceiver\")\n",
    "# model.to(device)"
   ]
  },
  {
   "cell_type": "code",
   "execution_count": 24,
   "metadata": {},
   "outputs": [],
   "source": [
    "# model = PerceiverForMultimodalAutoencoding.from_pretrained(\"deepmind/multimodal-perceiver\")\n",
    "\n",
    "# image = torch.rand(1, 16, 224, 224) # Not good\n",
    "image = torch.rand(1, 16, 3, 224, 224)\n",
    "audio =  torch.rand(1, 30720, 1)\n",
    "\n",
    "inputs = dict(\n",
    "    image = image,\n",
    "    audio =  audio,\n",
    "    label =  torch.zeros((1, 700))\n",
    ")\n",
    "\n",
    "nchunks = 128\n",
    "image_chunk_size = np.prod((16, 224, 224)) // nchunks\n",
    "audio_chunk_size = audio.shape[1] // model.config.samples_per_patch // nchunks\n",
    "\n",
    "chunk_idx = 127\n",
    "subsampling = {\n",
    "    \"image\": torch.arange(image_chunk_size * chunk_idx, image_chunk_size * (chunk_idx + 1)),\n",
    "    \"audio\": torch.arange(audio_chunk_size * chunk_idx, audio_chunk_size * (chunk_idx + 1)),\n",
    "    \"label\": None,\n",
    "}"
   ]
  },
  {
   "cell_type": "code",
   "execution_count": 25,
   "metadata": {},
   "outputs": [
    {
     "data": {
      "text/plain": [
       "16"
      ]
     },
     "execution_count": 25,
     "metadata": {},
     "output_type": "execute_result"
    }
   ],
   "source": [
    "model.config.samples_per_patch"
   ]
  },
  {
   "cell_type": "code",
   "execution_count": 26,
   "metadata": {},
   "outputs": [],
   "source": [
    "output = model(inputs = inputs , subsampled_output_points=subsampling)"
   ]
  },
  {
   "cell_type": "code",
   "execution_count": 27,
   "metadata": {},
   "outputs": [],
   "source": [
    "out_label = output.logits[\"label\"]"
   ]
  },
  {
   "cell_type": "code",
   "execution_count": 28,
   "metadata": {},
   "outputs": [
    {
     "data": {
      "text/plain": [
       "tensor([[663,  49, 199, 637, 574]])"
      ]
     },
     "execution_count": 28,
     "metadata": {},
     "output_type": "execute_result"
    }
   ],
   "source": [
    "torch.topk(out_label, 5).indices"
   ]
  },
  {
   "cell_type": "code",
   "execution_count": 30,
   "metadata": {},
   "outputs": [
    {
     "data": {
      "text/plain": [
       "tensor([[278, 663,  67, 354, 647]])"
      ]
     },
     "execution_count": 30,
     "metadata": {},
     "output_type": "execute_result"
    }
   ],
   "source": [
    "torch.topk(out_label, 5).indices"
   ]
  }
 ],
 "metadata": {
  "interpreter": {
   "hash": "76a523b229c1bdfefc2e48939a50f2e7755309cd9defdafaa93eeee6ec8eda56"
  },
  "kernelspec": {
   "display_name": "Python 3.9.7 ('yolo')",
   "language": "python",
   "name": "python3"
  },
  "language_info": {
   "codemirror_mode": {
    "name": "ipython",
    "version": 3
   },
   "file_extension": ".py",
   "mimetype": "text/x-python",
   "name": "python",
   "nbconvert_exporter": "python",
   "pygments_lexer": "ipython3",
   "version": "3.9.7"
  },
  "orig_nbformat": 4
 },
 "nbformat": 4,
 "nbformat_minor": 2
}
